{
 "cells": [
  {
   "cell_type": "code",
   "execution_count": 6,
   "id": "40d568ca-a4a0-4f09-9306-1b8298c1d1c4",
   "metadata": {},
   "outputs": [],
   "source": [
    "import pandas as pd"
   ]
  },
  {
   "cell_type": "code",
   "execution_count": 7,
   "id": "63f09769-5373-4b06-8305-fb2bef018b30",
   "metadata": {},
   "outputs": [],
   "source": [
    "data = pd.read_csv(\"datos_ejercicio.csv\")"
   ]
  },
  {
   "cell_type": "code",
   "execution_count": 8,
   "id": "f676659a-8365-4534-be69-a6e964ab8ea1",
   "metadata": {},
   "outputs": [
    {
     "data": {
      "text/html": [
       "<div>\n",
       "<style scoped>\n",
       "    .dataframe tbody tr th:only-of-type {\n",
       "        vertical-align: middle;\n",
       "    }\n",
       "\n",
       "    .dataframe tbody tr th {\n",
       "        vertical-align: top;\n",
       "    }\n",
       "\n",
       "    .dataframe thead th {\n",
       "        text-align: right;\n",
       "    }\n",
       "</style>\n",
       "<table border=\"1\" class=\"dataframe\">\n",
       "  <thead>\n",
       "    <tr style=\"text-align: right;\">\n",
       "      <th></th>\n",
       "      <th>nombre</th>\n",
       "      <th>last_name</th>\n",
       "      <th>email</th>\n",
       "      <th>address</th>\n",
       "      <th>Edad</th>\n",
       "      <th>Provincia</th>\n",
       "    </tr>\n",
       "  </thead>\n",
       "  <tbody>\n",
       "    <tr>\n",
       "      <th>0</th>\n",
       "      <td>Laura Garza</td>\n",
       "      <td>Little</td>\n",
       "      <td>woodstacey@example.net</td>\n",
       "      <td>Unit 6122 Box 3019\\nDPO AE 44399</td>\n",
       "      <td>37</td>\n",
       "      <td>Loja</td>\n",
       "    </tr>\n",
       "    <tr>\n",
       "      <th>1</th>\n",
       "      <td>Shelley Potts</td>\n",
       "      <td>Miller</td>\n",
       "      <td>flemingbradley@example.com</td>\n",
       "      <td>133 Carolyn Inlet Suite 572\\nWilliamsberg, UT ...</td>\n",
       "      <td>36</td>\n",
       "      <td>Pichincha</td>\n",
       "    </tr>\n",
       "    <tr>\n",
       "      <th>2</th>\n",
       "      <td>Joshua Williams</td>\n",
       "      <td>Hall</td>\n",
       "      <td>janice58@example.com</td>\n",
       "      <td>6916 Daniel Row Apt. 429\\nSouth Victormouth, M...</td>\n",
       "      <td>32</td>\n",
       "      <td>Guayas</td>\n",
       "    </tr>\n",
       "    <tr>\n",
       "      <th>3</th>\n",
       "      <td>Rebecca Taylor</td>\n",
       "      <td>Alvarez</td>\n",
       "      <td>leslie18@example.org</td>\n",
       "      <td>146 Bowman Plains Apt. 828\\nLongville, WA 70415</td>\n",
       "      <td>35</td>\n",
       "      <td>Azuay</td>\n",
       "    </tr>\n",
       "    <tr>\n",
       "      <th>4</th>\n",
       "      <td>Regina Maldonado</td>\n",
       "      <td>Grant</td>\n",
       "      <td>nclark@example.com</td>\n",
       "      <td>6260 Dana Fall\\nTroybury, MP 77267</td>\n",
       "      <td>40</td>\n",
       "      <td>Manabí</td>\n",
       "    </tr>\n",
       "    <tr>\n",
       "      <th>...</th>\n",
       "      <td>...</td>\n",
       "      <td>...</td>\n",
       "      <td>...</td>\n",
       "      <td>...</td>\n",
       "      <td>...</td>\n",
       "      <td>...</td>\n",
       "    </tr>\n",
       "    <tr>\n",
       "      <th>995</th>\n",
       "      <td>Mrs. Ashley Johnson</td>\n",
       "      <td>Hughes</td>\n",
       "      <td>edwardstanya@example.net</td>\n",
       "      <td>517 Martha Tunnel Suite 402\\nSextonchester, CA...</td>\n",
       "      <td>38</td>\n",
       "      <td>Loja</td>\n",
       "    </tr>\n",
       "    <tr>\n",
       "      <th>996</th>\n",
       "      <td>Barbara Hooper</td>\n",
       "      <td>Barber</td>\n",
       "      <td>jillian39@example.net</td>\n",
       "      <td>009 Gates Shores Suite 811\\nRiverashire, MA 45111</td>\n",
       "      <td>39</td>\n",
       "      <td>Pichincha</td>\n",
       "    </tr>\n",
       "    <tr>\n",
       "      <th>997</th>\n",
       "      <td>Lisa Bradley</td>\n",
       "      <td>Burns</td>\n",
       "      <td>arianagould@example.org</td>\n",
       "      <td>66691 Thomas Ramp\\nMasseyshire, CT 20379</td>\n",
       "      <td>35</td>\n",
       "      <td>Guayas</td>\n",
       "    </tr>\n",
       "    <tr>\n",
       "      <th>998</th>\n",
       "      <td>Christopher Mccullough</td>\n",
       "      <td>Garcia</td>\n",
       "      <td>rcruz@example.net</td>\n",
       "      <td>1681 Samantha Club\\nJasonview, AZ 45605</td>\n",
       "      <td>30</td>\n",
       "      <td>Azuay</td>\n",
       "    </tr>\n",
       "    <tr>\n",
       "      <th>999</th>\n",
       "      <td>Colleen Hayden</td>\n",
       "      <td>Olsen</td>\n",
       "      <td>xmaldonado@example.org</td>\n",
       "      <td>1646 Larson Creek Apt. 657\\nNicoleview, VA 34396</td>\n",
       "      <td>32</td>\n",
       "      <td>Manabí</td>\n",
       "    </tr>\n",
       "  </tbody>\n",
       "</table>\n",
       "<p>1000 rows × 6 columns</p>\n",
       "</div>"
      ],
      "text/plain": [
       "                     nombre last_name                       email  \\\n",
       "0               Laura Garza    Little      woodstacey@example.net   \n",
       "1             Shelley Potts    Miller  flemingbradley@example.com   \n",
       "2           Joshua Williams      Hall        janice58@example.com   \n",
       "3            Rebecca Taylor   Alvarez        leslie18@example.org   \n",
       "4          Regina Maldonado     Grant          nclark@example.com   \n",
       "..                      ...       ...                         ...   \n",
       "995     Mrs. Ashley Johnson    Hughes    edwardstanya@example.net   \n",
       "996          Barbara Hooper    Barber       jillian39@example.net   \n",
       "997            Lisa Bradley     Burns     arianagould@example.org   \n",
       "998  Christopher Mccullough    Garcia           rcruz@example.net   \n",
       "999          Colleen Hayden     Olsen      xmaldonado@example.org   \n",
       "\n",
       "                                               address  Edad  Provincia  \n",
       "0                     Unit 6122 Box 3019\\nDPO AE 44399    37       Loja  \n",
       "1    133 Carolyn Inlet Suite 572\\nWilliamsberg, UT ...    36  Pichincha  \n",
       "2    6916 Daniel Row Apt. 429\\nSouth Victormouth, M...    32     Guayas  \n",
       "3      146 Bowman Plains Apt. 828\\nLongville, WA 70415    35      Azuay  \n",
       "4                   6260 Dana Fall\\nTroybury, MP 77267    40     Manabí  \n",
       "..                                                 ...   ...        ...  \n",
       "995  517 Martha Tunnel Suite 402\\nSextonchester, CA...    38       Loja  \n",
       "996  009 Gates Shores Suite 811\\nRiverashire, MA 45111    39  Pichincha  \n",
       "997           66691 Thomas Ramp\\nMasseyshire, CT 20379    35     Guayas  \n",
       "998            1681 Samantha Club\\nJasonview, AZ 45605    30      Azuay  \n",
       "999   1646 Larson Creek Apt. 657\\nNicoleview, VA 34396    32     Manabí  \n",
       "\n",
       "[1000 rows x 6 columns]"
      ]
     },
     "execution_count": 8,
     "metadata": {},
     "output_type": "execute_result"
    }
   ],
   "source": [
    "data"
   ]
  },
  {
   "cell_type": "code",
   "execution_count": 4,
   "id": "e9033947-f4f6-4835-8071-28e7c5b4b572",
   "metadata": {},
   "outputs": [
    {
     "name": "stdout",
     "output_type": "stream",
     "text": [
      "Requirement already satisfied: pygwalker in ./env001/lib/python3.10/site-packages (0.4.8)\n",
      "Requirement already satisfied: appdirs in ./env001/lib/python3.10/site-packages (from pygwalker) (1.4.4)\n",
      "Requirement already satisfied: arrow in ./env001/lib/python3.10/site-packages (from pygwalker) (1.3.0)\n",
      "Requirement already satisfied: astor in ./env001/lib/python3.10/site-packages (from pygwalker) (0.8.1)\n",
      "Requirement already satisfied: cachetools in ./env001/lib/python3.10/site-packages (from pygwalker) (5.3.3)\n",
      "Requirement already satisfied: duckdb==0.10.1 in ./env001/lib/python3.10/site-packages (from pygwalker) (0.10.1)\n",
      "Requirement already satisfied: gw-dsl-parser==0.1.47 in ./env001/lib/python3.10/site-packages (from pygwalker) (0.1.47)\n",
      "Requirement already satisfied: ipython in ./env001/lib/python3.10/site-packages (from pygwalker) (8.23.0)\n",
      "Requirement already satisfied: ipywidgets in ./env001/lib/python3.10/site-packages (from pygwalker) (8.1.2)\n",
      "Requirement already satisfied: jinja2 in ./env001/lib/python3.10/site-packages (from pygwalker) (3.1.3)\n",
      "Requirement already satisfied: kanaries-track==0.0.4 in ./env001/lib/python3.10/site-packages (from pygwalker) (0.0.4)\n",
      "Requirement already satisfied: packaging in ./env001/lib/python3.10/site-packages (from pygwalker) (24.0)\n",
      "Requirement already satisfied: pandas in ./env001/lib/python3.10/site-packages (from pygwalker) (2.2.2)\n",
      "Requirement already satisfied: psutil in ./env001/lib/python3.10/site-packages (from pygwalker) (5.9.8)\n",
      "Requirement already satisfied: pyarrow in ./env001/lib/python3.10/site-packages (from pygwalker) (16.0.0)\n",
      "Requirement already satisfied: pydantic in ./env001/lib/python3.10/site-packages (from pygwalker) (2.7.1)\n",
      "Requirement already satisfied: pytz in ./env001/lib/python3.10/site-packages (from pygwalker) (2024.1)\n",
      "Requirement already satisfied: requests in ./env001/lib/python3.10/site-packages (from pygwalker) (2.31.0)\n",
      "Requirement already satisfied: segment-analytics-python==2.2.3 in ./env001/lib/python3.10/site-packages (from pygwalker) (2.2.3)\n",
      "Requirement already satisfied: sqlalchemy in ./env001/lib/python3.10/site-packages (from pygwalker) (2.0.29)\n",
      "Requirement already satisfied: sqlglot>=19.0.0 in ./env001/lib/python3.10/site-packages (from pygwalker) (23.11.2)\n",
      "Requirement already satisfied: typing-extensions in ./env001/lib/python3.10/site-packages (from pygwalker) (4.11.0)\n",
      "Requirement already satisfied: wasmtime==12.0.0 in ./env001/lib/python3.10/site-packages (from gw-dsl-parser==0.1.47->pygwalker) (12.0.0)\n",
      "Requirement already satisfied: backoff>=2.2.1 in ./env001/lib/python3.10/site-packages (from kanaries-track==0.0.4->pygwalker) (2.2.1)\n",
      "Requirement already satisfied: dateutils>=0.6.12 in ./env001/lib/python3.10/site-packages (from kanaries-track==0.0.4->pygwalker) (0.6.12)\n",
      "Requirement already satisfied: monotonic~=1.5 in ./env001/lib/python3.10/site-packages (from segment-analytics-python==2.2.3->pygwalker) (1.6)\n",
      "Requirement already satisfied: python-dateutil~=2.2 in ./env001/lib/python3.10/site-packages (from segment-analytics-python==2.2.3->pygwalker) (2.9.0.post0)\n",
      "Requirement already satisfied: charset-normalizer<4,>=2 in ./env001/lib/python3.10/site-packages (from requests->pygwalker) (3.3.2)\n",
      "Requirement already satisfied: idna<4,>=2.5 in ./env001/lib/python3.10/site-packages (from requests->pygwalker) (3.7)\n",
      "Requirement already satisfied: urllib3<3,>=1.21.1 in ./env001/lib/python3.10/site-packages (from requests->pygwalker) (2.2.1)\n",
      "Requirement already satisfied: certifi>=2017.4.17 in ./env001/lib/python3.10/site-packages (from requests->pygwalker) (2024.2.2)\n",
      "Requirement already satisfied: types-python-dateutil>=2.8.10 in ./env001/lib/python3.10/site-packages (from arrow->pygwalker) (2.9.0.20240316)\n",
      "Requirement already satisfied: decorator in ./env001/lib/python3.10/site-packages (from ipython->pygwalker) (5.1.1)\n",
      "Requirement already satisfied: jedi>=0.16 in ./env001/lib/python3.10/site-packages (from ipython->pygwalker) (0.19.1)\n",
      "Requirement already satisfied: matplotlib-inline in ./env001/lib/python3.10/site-packages (from ipython->pygwalker) (0.1.7)\n",
      "Requirement already satisfied: prompt-toolkit<3.1.0,>=3.0.41 in ./env001/lib/python3.10/site-packages (from ipython->pygwalker) (3.0.43)\n",
      "Requirement already satisfied: pygments>=2.4.0 in ./env001/lib/python3.10/site-packages (from ipython->pygwalker) (2.17.2)\n",
      "Requirement already satisfied: stack-data in ./env001/lib/python3.10/site-packages (from ipython->pygwalker) (0.6.3)\n",
      "Requirement already satisfied: traitlets>=5.13.0 in ./env001/lib/python3.10/site-packages (from ipython->pygwalker) (5.14.3)\n",
      "Requirement already satisfied: exceptiongroup in ./env001/lib/python3.10/site-packages (from ipython->pygwalker) (1.2.1)\n",
      "Requirement already satisfied: pexpect>4.3 in ./env001/lib/python3.10/site-packages (from ipython->pygwalker) (4.9.0)\n",
      "Requirement already satisfied: comm>=0.1.3 in ./env001/lib/python3.10/site-packages (from ipywidgets->pygwalker) (0.2.2)\n",
      "Requirement already satisfied: widgetsnbextension~=4.0.10 in ./env001/lib/python3.10/site-packages (from ipywidgets->pygwalker) (4.0.10)\n",
      "Requirement already satisfied: jupyterlab-widgets~=3.0.10 in ./env001/lib/python3.10/site-packages (from ipywidgets->pygwalker) (3.0.10)\n",
      "Requirement already satisfied: MarkupSafe>=2.0 in ./env001/lib/python3.10/site-packages (from jinja2->pygwalker) (2.1.5)\n",
      "Requirement already satisfied: numpy>=1.22.4 in ./env001/lib/python3.10/site-packages (from pandas->pygwalker) (1.26.4)\n",
      "Requirement already satisfied: tzdata>=2022.7 in ./env001/lib/python3.10/site-packages (from pandas->pygwalker) (2024.1)\n",
      "Requirement already satisfied: annotated-types>=0.4.0 in ./env001/lib/python3.10/site-packages (from pydantic->pygwalker) (0.6.0)\n",
      "Requirement already satisfied: pydantic-core==2.18.2 in ./env001/lib/python3.10/site-packages (from pydantic->pygwalker) (2.18.2)\n",
      "Requirement already satisfied: greenlet!=0.4.17 in ./env001/lib/python3.10/site-packages (from sqlalchemy->pygwalker) (3.0.3)\n",
      "Requirement already satisfied: parso<0.9.0,>=0.8.3 in ./env001/lib/python3.10/site-packages (from jedi>=0.16->ipython->pygwalker) (0.8.4)\n",
      "Requirement already satisfied: ptyprocess>=0.5 in ./env001/lib/python3.10/site-packages (from pexpect>4.3->ipython->pygwalker) (0.7.0)\n",
      "Requirement already satisfied: wcwidth in ./env001/lib/python3.10/site-packages (from prompt-toolkit<3.1.0,>=3.0.41->ipython->pygwalker) (0.2.13)\n",
      "Requirement already satisfied: six>=1.5 in ./env001/lib/python3.10/site-packages (from python-dateutil~=2.2->segment-analytics-python==2.2.3->pygwalker) (1.16.0)\n",
      "Requirement already satisfied: executing>=1.2.0 in ./env001/lib/python3.10/site-packages (from stack-data->ipython->pygwalker) (2.0.1)\n",
      "Requirement already satisfied: asttokens>=2.1.0 in ./env001/lib/python3.10/site-packages (from stack-data->ipython->pygwalker) (2.4.1)\n",
      "Requirement already satisfied: pure-eval in ./env001/lib/python3.10/site-packages (from stack-data->ipython->pygwalker) (0.2.2)\n"
     ]
    }
   ],
   "source": [
    "!pip install pygwalker"
   ]
  },
  {
   "cell_type": "code",
   "execution_count": 9,
   "id": "b00b13e5-569f-4e07-8e9f-e468b163e02b",
   "metadata": {},
   "outputs": [],
   "source": [
    "import pygwalker as pyg\n"
   ]
  },
  {
   "cell_type": "code",
   "execution_count": 10,
   "id": "971613d6-3b5c-4b74-ac58-4e87d02808b9",
   "metadata": {},
   "outputs": [
    {
     "data": {
      "application/vnd.jupyter.widget-view+json": {
       "model_id": "42b3cdf24e5c4619acc61e267d55ad89",
       "version_major": 2,
       "version_minor": 0
      },
      "text/plain": [
       "Box(children=(HTML(value='<div id=\"ifr-pyg-000616ce8b55dae2zFx9Y7uW5DnoQdv4\" style=\"height: auto\">\\n    <head>…"
      ]
     },
     "metadata": {},
     "output_type": "display_data"
    },
    {
     "data": {
      "text/html": [],
      "text/plain": [
       "<IPython.core.display.HTML object>"
      ]
     },
     "metadata": {},
     "output_type": "display_data"
    },
    {
     "data": {
      "text/plain": [
       "<pygwalker.api.pygwalker.PygWalker at 0x7ea414f72fe0>"
      ]
     },
     "execution_count": 10,
     "metadata": {},
     "output_type": "execute_result"
    }
   ],
   "source": [
    "pyg.walk(data)"
   ]
  },
  {
   "cell_type": "code",
   "execution_count": 11,
   "id": "69424583-93a6-46e1-86c2-73dd05582d99",
   "metadata": {},
   "outputs": [
    {
     "data": {
      "application/vnd.jupyter.widget-view+json": {
       "model_id": "96b7dfb3258a45d0b6cd9b6e09a22c81",
       "version_major": 2,
       "version_minor": 0
      },
      "text/plain": [
       "Box(children=(HTML(value='<div id=\"ifr-pyg-000616ce8d4c3527nmv8w1LX4hkUTeaH\" style=\"height: auto\">\\n    <head>…"
      ]
     },
     "metadata": {},
     "output_type": "display_data"
    },
    {
     "data": {
      "text/html": [],
      "text/plain": [
       "<IPython.core.display.HTML object>"
      ]
     },
     "metadata": {},
     "output_type": "display_data"
    },
    {
     "data": {
      "text/plain": [
       "<pygwalker.api.pygwalker.PygWalker at 0x7ea3d6a5e410>"
      ]
     },
     "execution_count": 11,
     "metadata": {},
     "output_type": "execute_result"
    }
   ],
   "source": [
    "pyg.walk(data)"
   ]
  }
 ],
 "metadata": {
  "kernelspec": {
   "display_name": "Python 3 (ipykernel)",
   "language": "python",
   "name": "python3"
  },
  "language_info": {
   "codemirror_mode": {
    "name": "ipython",
    "version": 3
   },
   "file_extension": ".py",
   "mimetype": "text/x-python",
   "name": "python",
   "nbconvert_exporter": "python",
   "pygments_lexer": "ipython3",
   "version": "3.10.12"
  }
 },
 "nbformat": 4,
 "nbformat_minor": 5
}
