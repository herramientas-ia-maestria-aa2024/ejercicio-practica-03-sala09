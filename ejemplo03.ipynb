{
 "cells": [
  {
   "cell_type": "code",
   "execution_count": 11,
   "id": "6f49d837-9d66-4262-b2b0-3e829b28de8e",
   "metadata": {},
   "outputs": [],
   "source": [
    "import pandas as pd\n"
   ]
  },
  {
   "cell_type": "code",
   "execution_count": 12,
   "id": "5d4765dc-8ffc-4fd9-90b6-483ee2e56910",
   "metadata": {},
   "outputs": [],
   "source": [
    "data = pd.read_csv(\"misdata2.csv\")"
   ]
  },
  {
   "cell_type": "code",
   "execution_count": 4,
   "id": "fbbfdbd8-307b-4101-8cd2-ba776acc7abe",
   "metadata": {},
   "outputs": [
    {
     "name": "stdout",
     "output_type": "stream",
     "text": [
      "Collecting pygwalker\n",
      "  Downloading pygwalker-0.4.8-py3-none-any.whl.metadata (19 kB)\n",
      "Collecting appdirs (from pygwalker)\n",
      "  Downloading appdirs-1.4.4-py2.py3-none-any.whl.metadata (9.0 kB)\n",
      "Requirement already satisfied: arrow in ./env001/lib/python3.10/site-packages (from pygwalker) (1.3.0)\n",
      "Collecting astor (from pygwalker)\n",
      "  Downloading astor-0.8.1-py2.py3-none-any.whl.metadata (4.2 kB)\n",
      "Collecting cachetools (from pygwalker)\n",
      "  Downloading cachetools-5.3.3-py3-none-any.whl.metadata (5.3 kB)\n",
      "Collecting duckdb==0.10.1 (from pygwalker)\n",
      "  Downloading duckdb-0.10.1-cp310-cp310-manylinux_2_17_x86_64.manylinux2014_x86_64.whl.metadata (763 bytes)\n",
      "Collecting gw-dsl-parser==0.1.47 (from pygwalker)\n",
      "  Downloading gw_dsl_parser-0.1.47-py3-none-any.whl.metadata (1.2 kB)\n",
      "Requirement already satisfied: ipython in ./env001/lib/python3.10/site-packages (from pygwalker) (8.23.0)\n",
      "Collecting ipywidgets (from pygwalker)\n",
      "  Downloading ipywidgets-8.1.2-py3-none-any.whl.metadata (2.4 kB)\n",
      "Requirement already satisfied: jinja2 in ./env001/lib/python3.10/site-packages (from pygwalker) (3.1.3)\n",
      "Collecting kanaries-track==0.0.4 (from pygwalker)\n",
      "  Downloading kanaries_track-0.0.4-py3-none-any.whl.metadata (913 bytes)\n",
      "Requirement already satisfied: packaging in ./env001/lib/python3.10/site-packages (from pygwalker) (24.0)\n",
      "Requirement already satisfied: pandas in ./env001/lib/python3.10/site-packages (from pygwalker) (2.2.2)\n",
      "Requirement already satisfied: psutil in ./env001/lib/python3.10/site-packages (from pygwalker) (5.9.8)\n",
      "Collecting pyarrow (from pygwalker)\n",
      "  Downloading pyarrow-16.0.0-cp310-cp310-manylinux_2_28_x86_64.whl.metadata (3.0 kB)\n",
      "Collecting pydantic (from pygwalker)\n",
      "  Downloading pydantic-2.7.1-py3-none-any.whl.metadata (107 kB)\n",
      "\u001b[2K     \u001b[38;2;114;156;31m━━━━━━━━━━━━━━━━━━━━━━━━━━━━━━━━━━━━━\u001b[0m \u001b[32m107.3/107.3 kB\u001b[0m \u001b[31m667.0 kB/s\u001b[0m eta \u001b[36m0:00:00\u001b[0m kB/s\u001b[0m eta \u001b[36m0:00:01\u001b[0m:01\u001b[0m\n",
      "\u001b[?25hRequirement already satisfied: pytz in ./env001/lib/python3.10/site-packages (from pygwalker) (2024.1)\n",
      "Requirement already satisfied: requests in ./env001/lib/python3.10/site-packages (from pygwalker) (2.31.0)\n",
      "Collecting segment-analytics-python==2.2.3 (from pygwalker)\n",
      "  Downloading segment_analytics_python-2.2.3-py2.py3-none-any.whl.metadata (1.6 kB)\n",
      "Collecting sqlalchemy (from pygwalker)\n",
      "  Downloading SQLAlchemy-2.0.29-cp310-cp310-manylinux_2_17_x86_64.manylinux2014_x86_64.whl.metadata (9.6 kB)\n",
      "Collecting sqlglot>=19.0.0 (from pygwalker)\n",
      "  Downloading sqlglot-23.11.2-py3-none-any.whl.metadata (18 kB)\n",
      "Requirement already satisfied: typing-extensions in ./env001/lib/python3.10/site-packages (from pygwalker) (4.11.0)\n",
      "Collecting wasmtime==12.0.0 (from gw-dsl-parser==0.1.47->pygwalker)\n",
      "  Downloading wasmtime-12.0.0-py3-none-manylinux1_x86_64.whl.metadata (7.4 kB)\n",
      "Collecting backoff>=2.2.1 (from kanaries-track==0.0.4->pygwalker)\n",
      "  Downloading backoff-2.2.1-py3-none-any.whl.metadata (14 kB)\n",
      "Collecting dateutils>=0.6.12 (from kanaries-track==0.0.4->pygwalker)\n",
      "  Downloading dateutils-0.6.12-py2.py3-none-any.whl.metadata (1.3 kB)\n",
      "Collecting monotonic~=1.5 (from segment-analytics-python==2.2.3->pygwalker)\n",
      "  Downloading monotonic-1.6-py2.py3-none-any.whl.metadata (1.5 kB)\n",
      "Requirement already satisfied: python-dateutil~=2.2 in ./env001/lib/python3.10/site-packages (from segment-analytics-python==2.2.3->pygwalker) (2.9.0.post0)\n",
      "Requirement already satisfied: charset-normalizer<4,>=2 in ./env001/lib/python3.10/site-packages (from requests->pygwalker) (3.3.2)\n",
      "Requirement already satisfied: idna<4,>=2.5 in ./env001/lib/python3.10/site-packages (from requests->pygwalker) (3.7)\n",
      "Requirement already satisfied: urllib3<3,>=1.21.1 in ./env001/lib/python3.10/site-packages (from requests->pygwalker) (2.2.1)\n",
      "Requirement already satisfied: certifi>=2017.4.17 in ./env001/lib/python3.10/site-packages (from requests->pygwalker) (2024.2.2)\n",
      "Requirement already satisfied: types-python-dateutil>=2.8.10 in ./env001/lib/python3.10/site-packages (from arrow->pygwalker) (2.9.0.20240316)\n",
      "Requirement already satisfied: decorator in ./env001/lib/python3.10/site-packages (from ipython->pygwalker) (5.1.1)\n",
      "Requirement already satisfied: jedi>=0.16 in ./env001/lib/python3.10/site-packages (from ipython->pygwalker) (0.19.1)\n",
      "Requirement already satisfied: matplotlib-inline in ./env001/lib/python3.10/site-packages (from ipython->pygwalker) (0.1.7)\n",
      "Requirement already satisfied: prompt-toolkit<3.1.0,>=3.0.41 in ./env001/lib/python3.10/site-packages (from ipython->pygwalker) (3.0.43)\n",
      "Requirement already satisfied: pygments>=2.4.0 in ./env001/lib/python3.10/site-packages (from ipython->pygwalker) (2.17.2)\n",
      "Requirement already satisfied: stack-data in ./env001/lib/python3.10/site-packages (from ipython->pygwalker) (0.6.3)\n",
      "Requirement already satisfied: traitlets>=5.13.0 in ./env001/lib/python3.10/site-packages (from ipython->pygwalker) (5.14.3)\n",
      "Requirement already satisfied: exceptiongroup in ./env001/lib/python3.10/site-packages (from ipython->pygwalker) (1.2.1)\n",
      "Requirement already satisfied: pexpect>4.3 in ./env001/lib/python3.10/site-packages (from ipython->pygwalker) (4.9.0)\n",
      "Requirement already satisfied: comm>=0.1.3 in ./env001/lib/python3.10/site-packages (from ipywidgets->pygwalker) (0.2.2)\n",
      "Collecting widgetsnbextension~=4.0.10 (from ipywidgets->pygwalker)\n",
      "  Downloading widgetsnbextension-4.0.10-py3-none-any.whl.metadata (1.6 kB)\n",
      "Collecting jupyterlab-widgets~=3.0.10 (from ipywidgets->pygwalker)\n",
      "  Downloading jupyterlab_widgets-3.0.10-py3-none-any.whl.metadata (4.1 kB)\n",
      "Requirement already satisfied: MarkupSafe>=2.0 in ./env001/lib/python3.10/site-packages (from jinja2->pygwalker) (2.1.5)\n",
      "Requirement already satisfied: numpy>=1.22.4 in ./env001/lib/python3.10/site-packages (from pandas->pygwalker) (1.26.4)\n",
      "Requirement already satisfied: tzdata>=2022.7 in ./env001/lib/python3.10/site-packages (from pandas->pygwalker) (2024.1)\n",
      "Collecting annotated-types>=0.4.0 (from pydantic->pygwalker)\n",
      "  Downloading annotated_types-0.6.0-py3-none-any.whl.metadata (12 kB)\n",
      "Collecting pydantic-core==2.18.2 (from pydantic->pygwalker)\n",
      "  Downloading pydantic_core-2.18.2-cp310-cp310-manylinux_2_17_x86_64.manylinux2014_x86_64.whl.metadata (6.5 kB)\n",
      "Collecting greenlet!=0.4.17 (from sqlalchemy->pygwalker)\n",
      "  Downloading greenlet-3.0.3-cp310-cp310-manylinux_2_24_x86_64.manylinux_2_28_x86_64.whl.metadata (3.8 kB)\n",
      "Requirement already satisfied: parso<0.9.0,>=0.8.3 in ./env001/lib/python3.10/site-packages (from jedi>=0.16->ipython->pygwalker) (0.8.4)\n",
      "Requirement already satisfied: ptyprocess>=0.5 in ./env001/lib/python3.10/site-packages (from pexpect>4.3->ipython->pygwalker) (0.7.0)\n",
      "Requirement already satisfied: wcwidth in ./env001/lib/python3.10/site-packages (from prompt-toolkit<3.1.0,>=3.0.41->ipython->pygwalker) (0.2.13)\n",
      "Requirement already satisfied: six>=1.5 in ./env001/lib/python3.10/site-packages (from python-dateutil~=2.2->segment-analytics-python==2.2.3->pygwalker) (1.16.0)\n",
      "Requirement already satisfied: executing>=1.2.0 in ./env001/lib/python3.10/site-packages (from stack-data->ipython->pygwalker) (2.0.1)\n",
      "Requirement already satisfied: asttokens>=2.1.0 in ./env001/lib/python3.10/site-packages (from stack-data->ipython->pygwalker) (2.4.1)\n",
      "Requirement already satisfied: pure-eval in ./env001/lib/python3.10/site-packages (from stack-data->ipython->pygwalker) (0.2.2)\n",
      "Downloading pygwalker-0.4.8-py3-none-any.whl (2.2 MB)\n",
      "\u001b[2K   \u001b[38;2;114;156;31m━━━━━━━━━━━━━━━━━━━━━━━━━━━━━━━━━━━━━━━━\u001b[0m \u001b[32m2.2/2.2 MB\u001b[0m \u001b[31m1.7 MB/s\u001b[0m eta \u001b[36m0:00:00\u001b[0mm eta \u001b[36m0:00:01\u001b[0m[36m0:00:01\u001b[0m\n",
      "\u001b[?25hDownloading duckdb-0.10.1-cp310-cp310-manylinux_2_17_x86_64.manylinux2014_x86_64.whl (18.1 MB)\n",
      "\u001b[2K   \u001b[38;2;114;156;31m━━━━━━━━━━━━━━━━━━━━━━━━━━━━━━━━━━━━━━━━\u001b[0m \u001b[32m18.1/18.1 MB\u001b[0m \u001b[31m197.1 kB/s\u001b[0m eta \u001b[36m0:00:00\u001b[0mm eta \u001b[36m0:00:01\u001b[0m[36m0:00:03\u001b[0m\n",
      "\u001b[?25hDownloading gw_dsl_parser-0.1.47-py3-none-any.whl (993 kB)\n",
      "\u001b[2K   \u001b[38;2;114;156;31m━━━━━━━━━━━━━━━━━━━━━━━━━━━━━━━━━━━━━━━\u001b[0m \u001b[32m993.3/993.3 kB\u001b[0m \u001b[31m277.2 kB/s\u001b[0m eta \u001b[36m0:00:00\u001b[0m[36m0:00:01\u001b[0mm eta \u001b[36m0:00:01\u001b[0m\n",
      "\u001b[?25hDownloading kanaries_track-0.0.4-py3-none-any.whl (8.6 kB)\n",
      "Downloading segment_analytics_python-2.2.3-py2.py3-none-any.whl (24 kB)\n",
      "Downloading wasmtime-12.0.0-py3-none-manylinux1_x86_64.whl (7.0 MB)\n",
      "\u001b[2K   \u001b[38;2;114;156;31m━━━━━━━━━━━━━━━━━━━━━━━━━━━━━━━━━━━━━━━━\u001b[0m \u001b[32m7.0/7.0 MB\u001b[0m \u001b[31m165.1 kB/s\u001b[0m eta \u001b[36m0:00:00\u001b[0mm eta \u001b[36m0:00:01\u001b[0m[36m0:00:02\u001b[0m\n",
      "\u001b[?25hDownloading sqlglot-23.11.2-py3-none-any.whl (387 kB)\n",
      "\u001b[2K   \u001b[38;2;114;156;31m━━━━━━━━━━━━━━━━━━━━━━━━━━━━━━━━━━━━━━━\u001b[0m \u001b[32m387.7/387.7 kB\u001b[0m \u001b[31m286.0 kB/s\u001b[0m eta \u001b[36m0:00:00\u001b[0m kB/s\u001b[0m eta \u001b[36m0:00:01\u001b[0m:01\u001b[0m\n",
      "\u001b[?25hDownloading appdirs-1.4.4-py2.py3-none-any.whl (9.6 kB)\n",
      "Downloading astor-0.8.1-py2.py3-none-any.whl (27 kB)\n",
      "Downloading cachetools-5.3.3-py3-none-any.whl (9.3 kB)\n",
      "Downloading ipywidgets-8.1.2-py3-none-any.whl (139 kB)\n",
      "\u001b[2K   \u001b[38;2;114;156;31m━━━━━━━━━━━━━━━━━━━━━━━━━━━━━━━━━━━━━━━\u001b[0m \u001b[32m139.4/139.4 kB\u001b[0m \u001b[31m359.7 kB/s\u001b[0m eta \u001b[36m0:00:00\u001b[0m kB/s\u001b[0m eta \u001b[36m0:00:01\u001b[0m:01\u001b[0m\n",
      "\u001b[?25hDownloading pyarrow-16.0.0-cp310-cp310-manylinux_2_28_x86_64.whl (40.8 MB)\n",
      "\u001b[2K   \u001b[38;2;114;156;31m━━━━━━━━━━━━━━━━━━━━━━━━━━━━━━━━━━━━━━━━\u001b[0m \u001b[32m40.8/40.8 MB\u001b[0m \u001b[31m361.5 kB/s\u001b[0m eta \u001b[36m0:00:00\u001b[0mm eta \u001b[36m0:00:01\u001b[0m[36m0:00:04\u001b[0m\n",
      "\u001b[?25hDownloading pydantic-2.7.1-py3-none-any.whl (409 kB)\n",
      "\u001b[2K   \u001b[38;2;114;156;31m━━━━━━━━━━━━━━━━━━━━━━━━━━━━━━━━━━━━━━━\u001b[0m \u001b[32m409.3/409.3 kB\u001b[0m \u001b[31m470.6 kB/s\u001b[0m eta \u001b[36m0:00:00\u001b[0m[36m0:00:01\u001b[0m[36m0:00:01\u001b[0m:01\u001b[0m\n",
      "\u001b[?25hDownloading pydantic_core-2.18.2-cp310-cp310-manylinux_2_17_x86_64.manylinux2014_x86_64.whl (2.1 MB)\n",
      "\u001b[2K   \u001b[38;2;114;156;31m━━━━━━━━━━━━━━━━━━━━━━━━━━━━━━━━━━━━━━━━\u001b[0m \u001b[32m2.1/2.1 MB\u001b[0m \u001b[31m543.4 kB/s\u001b[0m eta \u001b[36m0:00:00\u001b[0mm eta \u001b[36m0:00:01\u001b[0m[36m0:00:01\u001b[0m\n",
      "\u001b[?25hDownloading SQLAlchemy-2.0.29-cp310-cp310-manylinux_2_17_x86_64.manylinux2014_x86_64.whl (3.1 MB)\n",
      "\u001b[2K   \u001b[38;2;114;156;31m━━━━━━━━━━━━━━━━━━━━━━━━━━━━━━━━━━━━━━━━\u001b[0m \u001b[32m3.1/3.1 MB\u001b[0m \u001b[31m495.2 kB/s\u001b[0m eta \u001b[36m0:00:00\u001b[0mm eta \u001b[36m0:00:01\u001b[0m[36m0:00:01\u001b[0m\n",
      "\u001b[?25hDownloading annotated_types-0.6.0-py3-none-any.whl (12 kB)\n",
      "Downloading backoff-2.2.1-py3-none-any.whl (15 kB)\n",
      "Downloading dateutils-0.6.12-py2.py3-none-any.whl (5.7 kB)\n",
      "Downloading greenlet-3.0.3-cp310-cp310-manylinux_2_24_x86_64.manylinux_2_28_x86_64.whl (616 kB)\n",
      "\u001b[2K   \u001b[38;2;114;156;31m━━━━━━━━━━━━━━━━━━━━━━━━━━━━━━━━━━━━━━━\u001b[0m \u001b[32m616.0/616.0 kB\u001b[0m \u001b[31m574.9 kB/s\u001b[0m eta \u001b[36m0:00:00\u001b[0m1m576.8 kB/s\u001b[0m eta \u001b[36m0:00:01\u001b[0m\n",
      "\u001b[?25hDownloading jupyterlab_widgets-3.0.10-py3-none-any.whl (215 kB)\n",
      "\u001b[2K   \u001b[38;2;114;156;31m━━━━━━━━━━━━━━━━━━━━━━━━━━━━━━━━━━━━━━━\u001b[0m \u001b[32m215.0/215.0 kB\u001b[0m \u001b[31m459.9 kB/s\u001b[0m eta \u001b[36m0:00:00\u001b[0m1m481.8 kB/s\u001b[0m eta \u001b[36m0:00:01\u001b[0m\n",
      "\u001b[?25hDownloading monotonic-1.6-py2.py3-none-any.whl (8.2 kB)\n",
      "Downloading widgetsnbextension-4.0.10-py3-none-any.whl (2.3 MB)\n",
      "\u001b[2K   \u001b[38;2;114;156;31m━━━━━━━━━━━━━━━━━━━━━━━━━━━━━━━━━━━━━━━━\u001b[0m \u001b[32m2.3/2.3 MB\u001b[0m \u001b[31m426.7 kB/s\u001b[0m eta \u001b[36m0:00:00\u001b[0mm eta \u001b[36m0:00:01\u001b[0m[36m0:00:01\u001b[0m\n",
      "\u001b[?25hInstalling collected packages: monotonic, appdirs, widgetsnbextension, wasmtime, sqlglot, pydantic-core, pyarrow, jupyterlab-widgets, greenlet, duckdb, cachetools, backoff, astor, annotated-types, sqlalchemy, segment-analytics-python, pydantic, gw-dsl-parser, dateutils, kanaries-track, ipywidgets, pygwalker\n",
      "Successfully installed annotated-types-0.6.0 appdirs-1.4.4 astor-0.8.1 backoff-2.2.1 cachetools-5.3.3 dateutils-0.6.12 duckdb-0.10.1 greenlet-3.0.3 gw-dsl-parser-0.1.47 ipywidgets-8.1.2 jupyterlab-widgets-3.0.10 kanaries-track-0.0.4 monotonic-1.6 pyarrow-16.0.0 pydantic-2.7.1 pydantic-core-2.18.2 pygwalker-0.4.8 segment-analytics-python-2.2.3 sqlalchemy-2.0.29 sqlglot-23.11.2 wasmtime-12.0.0 widgetsnbextension-4.0.10\n"
     ]
    }
   ],
   "source": [
    "!pip install pygwalker\n",
    "# si se sigue este proceso, deberá reiniciar el jupyter-lab"
   ]
  },
  {
   "cell_type": "code",
   "execution_count": 13,
   "id": "1dfe7d68-e40e-44cb-a362-66acd5b9e71d",
   "metadata": {},
   "outputs": [],
   "source": [
    "import pygwalker as pyg\n"
   ]
  },
  {
   "cell_type": "code",
   "execution_count": 15,
   "id": "317ce43f-25d7-48dd-a11f-484004a8db82",
   "metadata": {},
   "outputs": [
    {
     "data": {
      "application/vnd.jupyter.widget-view+json": {
       "model_id": "a723f3300409468593d497794e845ff5",
       "version_major": 2,
       "version_minor": 0
      },
      "text/plain": [
       "Box(children=(HTML(value='<div id=\"ifr-pyg-000616cd75e60437Qac5eCzYVb6yG3BN\" style=\"height: auto\">\\n    <head>…"
      ]
     },
     "metadata": {},
     "output_type": "display_data"
    },
    {
     "data": {
      "text/html": [],
      "text/plain": [
       "<IPython.core.display.HTML object>"
      ]
     },
     "metadata": {},
     "output_type": "display_data"
    },
    {
     "data": {
      "text/plain": [
       "<pygwalker.api.pygwalker.PygWalker at 0x73ade6cb2aa0>"
      ]
     },
     "execution_count": 15,
     "metadata": {},
     "output_type": "execute_result"
    }
   ],
   "source": [
    "pyg.walk(data)\n"
   ]
  }
 ],
 "metadata": {
  "kernelspec": {
   "display_name": "Python 3 (ipykernel)",
   "language": "python",
   "name": "python3"
  },
  "language_info": {
   "codemirror_mode": {
    "name": "ipython",
    "version": 3
   },
   "file_extension": ".py",
   "mimetype": "text/x-python",
   "name": "python",
   "nbconvert_exporter": "python",
   "pygments_lexer": "ipython3",
   "version": "3.10.12"
  }
 },
 "nbformat": 4,
 "nbformat_minor": 5
}
