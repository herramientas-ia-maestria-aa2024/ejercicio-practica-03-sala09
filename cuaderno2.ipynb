{
 "cells": [
  {
   "cell_type": "code",
   "execution_count": 1,
   "id": "40d568ca-a4a0-4f09-9306-1b8298c1d1c4",
   "metadata": {},
   "outputs": [],
   "source": [
    "import pandas as pd"
   ]
  },
  {
   "cell_type": "code",
   "execution_count": 2,
   "id": "63f09769-5373-4b06-8305-fb2bef018b30",
   "metadata": {},
   "outputs": [],
   "source": [
    "data = pd.read_csv(\"datos_ejercicio.csv\")"
   ]
  },
  {
   "cell_type": "code",
   "execution_count": 3,
   "id": "f676659a-8365-4534-be69-a6e964ab8ea1",
   "metadata": {},
   "outputs": [
    {
     "data": {
      "text/html": [
       "<div>\n",
       "<style scoped>\n",
       "    .dataframe tbody tr th:only-of-type {\n",
       "        vertical-align: middle;\n",
       "    }\n",
       "\n",
       "    .dataframe tbody tr th {\n",
       "        vertical-align: top;\n",
       "    }\n",
       "\n",
       "    .dataframe thead th {\n",
       "        text-align: right;\n",
       "    }\n",
       "</style>\n",
       "<table border=\"1\" class=\"dataframe\">\n",
       "  <thead>\n",
       "    <tr style=\"text-align: right;\">\n",
       "      <th></th>\n",
       "      <th>nombre</th>\n",
       "      <th>last_name</th>\n",
       "      <th>email</th>\n",
       "      <th>address</th>\n",
       "      <th>Edad</th>\n",
       "      <th>Provincia</th>\n",
       "    </tr>\n",
       "  </thead>\n",
       "  <tbody>\n",
       "    <tr>\n",
       "      <th>0</th>\n",
       "      <td>Linda Wilson</td>\n",
       "      <td>Alvarez</td>\n",
       "      <td>jamesstone@example.com</td>\n",
       "      <td>432 John Stravenue Suite 335\\nSouth Allisonbur...</td>\n",
       "      <td>31</td>\n",
       "      <td>Guayas</td>\n",
       "    </tr>\n",
       "    <tr>\n",
       "      <th>1</th>\n",
       "      <td>Evan Jones</td>\n",
       "      <td>Parker</td>\n",
       "      <td>garciachristine@example.net</td>\n",
       "      <td>415 Stephanie Isle\\nVeronicatown, GU 41545</td>\n",
       "      <td>30</td>\n",
       "      <td>Loja</td>\n",
       "    </tr>\n",
       "    <tr>\n",
       "      <th>2</th>\n",
       "      <td>Shelby Johnson</td>\n",
       "      <td>Burch</td>\n",
       "      <td>ehale@example.com</td>\n",
       "      <td>4771 Mcclain Expressway Apt. 432\\nWest Hannahf...</td>\n",
       "      <td>36</td>\n",
       "      <td>Loja</td>\n",
       "    </tr>\n",
       "    <tr>\n",
       "      <th>3</th>\n",
       "      <td>Patrick Kennedy</td>\n",
       "      <td>Baker</td>\n",
       "      <td>wmartinez@example.com</td>\n",
       "      <td>9355 Robert Canyon Apt. 276\\nFloresshire, SD 1...</td>\n",
       "      <td>35</td>\n",
       "      <td>Pichincha</td>\n",
       "    </tr>\n",
       "    <tr>\n",
       "      <th>4</th>\n",
       "      <td>Jamie Dennis</td>\n",
       "      <td>Lewis</td>\n",
       "      <td>gonzalesjohn@example.org</td>\n",
       "      <td>43369 Harris Common Suite 132\\nRyanland, MI 02199</td>\n",
       "      <td>37</td>\n",
       "      <td>Pichincha</td>\n",
       "    </tr>\n",
       "    <tr>\n",
       "      <th>...</th>\n",
       "      <td>...</td>\n",
       "      <td>...</td>\n",
       "      <td>...</td>\n",
       "      <td>...</td>\n",
       "      <td>...</td>\n",
       "      <td>...</td>\n",
       "    </tr>\n",
       "    <tr>\n",
       "      <th>995</th>\n",
       "      <td>Gina Spencer</td>\n",
       "      <td>Ortega</td>\n",
       "      <td>balvarez@example.net</td>\n",
       "      <td>76742 Jeff Inlet Apt. 992\\nSouth Brittanymouth...</td>\n",
       "      <td>39</td>\n",
       "      <td>Azuay</td>\n",
       "    </tr>\n",
       "    <tr>\n",
       "      <th>996</th>\n",
       "      <td>John Khan</td>\n",
       "      <td>Diaz</td>\n",
       "      <td>lopezmatthew@example.net</td>\n",
       "      <td>18425 Tran Stravenue\\nSouth Wendybury, KS 35191</td>\n",
       "      <td>31</td>\n",
       "      <td>Manabí</td>\n",
       "    </tr>\n",
       "    <tr>\n",
       "      <th>997</th>\n",
       "      <td>Austin Powell</td>\n",
       "      <td>Kent</td>\n",
       "      <td>tiffany07@example.org</td>\n",
       "      <td>5966 Rodriguez Canyon Suite 998\\nPort Christin...</td>\n",
       "      <td>31</td>\n",
       "      <td>Manabí</td>\n",
       "    </tr>\n",
       "    <tr>\n",
       "      <th>998</th>\n",
       "      <td>Monica Mosley</td>\n",
       "      <td>Miranda</td>\n",
       "      <td>nguyenkathleen@example.org</td>\n",
       "      <td>14315 Brittany Islands Apt. 932\\nCollinscheste...</td>\n",
       "      <td>38</td>\n",
       "      <td>Pichincha</td>\n",
       "    </tr>\n",
       "    <tr>\n",
       "      <th>999</th>\n",
       "      <td>Thomas Robinson</td>\n",
       "      <td>Woods</td>\n",
       "      <td>brownjennifer@example.org</td>\n",
       "      <td>PSC 8244, Box 7144\\nAPO AP 09613</td>\n",
       "      <td>33</td>\n",
       "      <td>Azuay</td>\n",
       "    </tr>\n",
       "  </tbody>\n",
       "</table>\n",
       "<p>1000 rows × 6 columns</p>\n",
       "</div>"
      ],
      "text/plain": [
       "              nombre last_name                        email  \\\n",
       "0       Linda Wilson   Alvarez       jamesstone@example.com   \n",
       "1         Evan Jones    Parker  garciachristine@example.net   \n",
       "2     Shelby Johnson     Burch            ehale@example.com   \n",
       "3    Patrick Kennedy     Baker        wmartinez@example.com   \n",
       "4       Jamie Dennis     Lewis     gonzalesjohn@example.org   \n",
       "..               ...       ...                          ...   \n",
       "995     Gina Spencer    Ortega         balvarez@example.net   \n",
       "996        John Khan      Diaz     lopezmatthew@example.net   \n",
       "997    Austin Powell      Kent        tiffany07@example.org   \n",
       "998    Monica Mosley   Miranda   nguyenkathleen@example.org   \n",
       "999  Thomas Robinson     Woods    brownjennifer@example.org   \n",
       "\n",
       "                                               address  Edad  Provincia  \n",
       "0    432 John Stravenue Suite 335\\nSouth Allisonbur...    31     Guayas  \n",
       "1           415 Stephanie Isle\\nVeronicatown, GU 41545    30       Loja  \n",
       "2    4771 Mcclain Expressway Apt. 432\\nWest Hannahf...    36       Loja  \n",
       "3    9355 Robert Canyon Apt. 276\\nFloresshire, SD 1...    35  Pichincha  \n",
       "4    43369 Harris Common Suite 132\\nRyanland, MI 02199    37  Pichincha  \n",
       "..                                                 ...   ...        ...  \n",
       "995  76742 Jeff Inlet Apt. 992\\nSouth Brittanymouth...    39      Azuay  \n",
       "996    18425 Tran Stravenue\\nSouth Wendybury, KS 35191    31     Manabí  \n",
       "997  5966 Rodriguez Canyon Suite 998\\nPort Christin...    31     Manabí  \n",
       "998  14315 Brittany Islands Apt. 932\\nCollinscheste...    38  Pichincha  \n",
       "999                   PSC 8244, Box 7144\\nAPO AP 09613    33      Azuay  \n",
       "\n",
       "[1000 rows x 6 columns]"
      ]
     },
     "execution_count": 3,
     "metadata": {},
     "output_type": "execute_result"
    }
   ],
   "source": [
    "data"
   ]
  },
  {
   "cell_type": "code",
   "execution_count": 4,
   "id": "e9033947-f4f6-4835-8071-28e7c5b4b572",
   "metadata": {},
   "outputs": [
    {
     "name": "stdout",
     "output_type": "stream",
     "text": [
      "Requirement already satisfied: pygwalker in /home/henry/Escritorio/Herramientas para inteligencia artificial/ejemplos-clase03/env001/lib/python3.10/site-packages (0.4.8)\n",
      "Requirement already satisfied: appdirs in /home/henry/Escritorio/Herramientas para inteligencia artificial/ejemplos-clase03/env001/lib/python3.10/site-packages (from pygwalker) (1.4.4)\n",
      "Requirement already satisfied: arrow in /home/henry/Escritorio/Herramientas para inteligencia artificial/ejemplos-clase03/env001/lib/python3.10/site-packages (from pygwalker) (1.3.0)\n",
      "Requirement already satisfied: astor in /home/henry/Escritorio/Herramientas para inteligencia artificial/ejemplos-clase03/env001/lib/python3.10/site-packages (from pygwalker) (0.8.1)\n",
      "Requirement already satisfied: cachetools in /home/henry/Escritorio/Herramientas para inteligencia artificial/ejemplos-clase03/env001/lib/python3.10/site-packages (from pygwalker) (5.3.3)\n",
      "Requirement already satisfied: duckdb==0.10.1 in /home/henry/Escritorio/Herramientas para inteligencia artificial/ejemplos-clase03/env001/lib/python3.10/site-packages (from pygwalker) (0.10.1)\n",
      "Requirement already satisfied: gw-dsl-parser==0.1.47 in /home/henry/Escritorio/Herramientas para inteligencia artificial/ejemplos-clase03/env001/lib/python3.10/site-packages (from pygwalker) (0.1.47)\n",
      "Requirement already satisfied: ipython in /home/henry/Escritorio/Herramientas para inteligencia artificial/ejemplos-clase03/env001/lib/python3.10/site-packages (from pygwalker) (8.23.0)\n",
      "Requirement already satisfied: ipywidgets in /home/henry/Escritorio/Herramientas para inteligencia artificial/ejemplos-clase03/env001/lib/python3.10/site-packages (from pygwalker) (8.1.2)\n",
      "Requirement already satisfied: jinja2 in /home/henry/Escritorio/Herramientas para inteligencia artificial/ejemplos-clase03/env001/lib/python3.10/site-packages (from pygwalker) (3.1.3)\n",
      "Requirement already satisfied: kanaries-track==0.0.4 in /home/henry/Escritorio/Herramientas para inteligencia artificial/ejemplos-clase03/env001/lib/python3.10/site-packages (from pygwalker) (0.0.4)\n",
      "Requirement already satisfied: packaging in /home/henry/Escritorio/Herramientas para inteligencia artificial/ejemplos-clase03/env001/lib/python3.10/site-packages (from pygwalker) (24.0)\n",
      "Requirement already satisfied: pandas in /home/henry/Escritorio/Herramientas para inteligencia artificial/ejemplos-clase03/env001/lib/python3.10/site-packages (from pygwalker) (2.2.2)\n",
      "Requirement already satisfied: psutil in /home/henry/Escritorio/Herramientas para inteligencia artificial/ejemplos-clase03/env001/lib/python3.10/site-packages (from pygwalker) (5.9.8)\n",
      "Requirement already satisfied: pyarrow in /home/henry/Escritorio/Herramientas para inteligencia artificial/ejemplos-clase03/env001/lib/python3.10/site-packages (from pygwalker) (16.0.0)\n",
      "Requirement already satisfied: pydantic in /home/henry/Escritorio/Herramientas para inteligencia artificial/ejemplos-clase03/env001/lib/python3.10/site-packages (from pygwalker) (2.7.1)\n",
      "Requirement already satisfied: pytz in /home/henry/Escritorio/Herramientas para inteligencia artificial/ejemplos-clase03/env001/lib/python3.10/site-packages (from pygwalker) (2024.1)\n",
      "Requirement already satisfied: requests in /home/henry/Escritorio/Herramientas para inteligencia artificial/ejemplos-clase03/env001/lib/python3.10/site-packages (from pygwalker) (2.31.0)\n",
      "Requirement already satisfied: segment-analytics-python==2.2.3 in /home/henry/Escritorio/Herramientas para inteligencia artificial/ejemplos-clase03/env001/lib/python3.10/site-packages (from pygwalker) (2.2.3)\n",
      "Requirement already satisfied: sqlalchemy in /home/henry/Escritorio/Herramientas para inteligencia artificial/ejemplos-clase03/env001/lib/python3.10/site-packages (from pygwalker) (2.0.29)\n",
      "Requirement already satisfied: sqlglot>=19.0.0 in /home/henry/Escritorio/Herramientas para inteligencia artificial/ejemplos-clase03/env001/lib/python3.10/site-packages (from pygwalker) (23.11.2)\n",
      "Requirement already satisfied: typing-extensions in /home/henry/Escritorio/Herramientas para inteligencia artificial/ejemplos-clase03/env001/lib/python3.10/site-packages (from pygwalker) (4.11.0)\n",
      "Requirement already satisfied: wasmtime==12.0.0 in /home/henry/Escritorio/Herramientas para inteligencia artificial/ejemplos-clase03/env001/lib/python3.10/site-packages (from gw-dsl-parser==0.1.47->pygwalker) (12.0.0)\n",
      "Requirement already satisfied: backoff>=2.2.1 in /home/henry/Escritorio/Herramientas para inteligencia artificial/ejemplos-clase03/env001/lib/python3.10/site-packages (from kanaries-track==0.0.4->pygwalker) (2.2.1)\n",
      "Requirement already satisfied: dateutils>=0.6.12 in /home/henry/Escritorio/Herramientas para inteligencia artificial/ejemplos-clase03/env001/lib/python3.10/site-packages (from kanaries-track==0.0.4->pygwalker) (0.6.12)\n",
      "Requirement already satisfied: monotonic~=1.5 in /home/henry/Escritorio/Herramientas para inteligencia artificial/ejemplos-clase03/env001/lib/python3.10/site-packages (from segment-analytics-python==2.2.3->pygwalker) (1.6)\n",
      "Requirement already satisfied: python-dateutil~=2.2 in /home/henry/Escritorio/Herramientas para inteligencia artificial/ejemplos-clase03/env001/lib/python3.10/site-packages (from segment-analytics-python==2.2.3->pygwalker) (2.9.0.post0)\n",
      "Requirement already satisfied: charset-normalizer<4,>=2 in /home/henry/Escritorio/Herramientas para inteligencia artificial/ejemplos-clase03/env001/lib/python3.10/site-packages (from requests->pygwalker) (3.3.2)\n",
      "Requirement already satisfied: idna<4,>=2.5 in /home/henry/Escritorio/Herramientas para inteligencia artificial/ejemplos-clase03/env001/lib/python3.10/site-packages (from requests->pygwalker) (3.7)\n",
      "Requirement already satisfied: urllib3<3,>=1.21.1 in /home/henry/Escritorio/Herramientas para inteligencia artificial/ejemplos-clase03/env001/lib/python3.10/site-packages (from requests->pygwalker) (2.2.1)\n",
      "Requirement already satisfied: certifi>=2017.4.17 in /home/henry/Escritorio/Herramientas para inteligencia artificial/ejemplos-clase03/env001/lib/python3.10/site-packages (from requests->pygwalker) (2024.2.2)\n",
      "Requirement already satisfied: types-python-dateutil>=2.8.10 in /home/henry/Escritorio/Herramientas para inteligencia artificial/ejemplos-clase03/env001/lib/python3.10/site-packages (from arrow->pygwalker) (2.9.0.20240316)\n",
      "Requirement already satisfied: decorator in /home/henry/Escritorio/Herramientas para inteligencia artificial/ejemplos-clase03/env001/lib/python3.10/site-packages (from ipython->pygwalker) (5.1.1)\n",
      "Requirement already satisfied: jedi>=0.16 in /home/henry/Escritorio/Herramientas para inteligencia artificial/ejemplos-clase03/env001/lib/python3.10/site-packages (from ipython->pygwalker) (0.19.1)\n",
      "Requirement already satisfied: matplotlib-inline in /home/henry/Escritorio/Herramientas para inteligencia artificial/ejemplos-clase03/env001/lib/python3.10/site-packages (from ipython->pygwalker) (0.1.7)\n",
      "Requirement already satisfied: prompt-toolkit<3.1.0,>=3.0.41 in /home/henry/Escritorio/Herramientas para inteligencia artificial/ejemplos-clase03/env001/lib/python3.10/site-packages (from ipython->pygwalker) (3.0.43)\n",
      "Requirement already satisfied: pygments>=2.4.0 in /home/henry/Escritorio/Herramientas para inteligencia artificial/ejemplos-clase03/env001/lib/python3.10/site-packages (from ipython->pygwalker) (2.17.2)\n",
      "Requirement already satisfied: stack-data in /home/henry/Escritorio/Herramientas para inteligencia artificial/ejemplos-clase03/env001/lib/python3.10/site-packages (from ipython->pygwalker) (0.6.3)\n",
      "Requirement already satisfied: traitlets>=5.13.0 in /home/henry/Escritorio/Herramientas para inteligencia artificial/ejemplos-clase03/env001/lib/python3.10/site-packages (from ipython->pygwalker) (5.14.3)\n",
      "Requirement already satisfied: exceptiongroup in /home/henry/Escritorio/Herramientas para inteligencia artificial/ejemplos-clase03/env001/lib/python3.10/site-packages (from ipython->pygwalker) (1.2.1)\n",
      "Requirement already satisfied: pexpect>4.3 in /home/henry/Escritorio/Herramientas para inteligencia artificial/ejemplos-clase03/env001/lib/python3.10/site-packages (from ipython->pygwalker) (4.9.0)\n",
      "Requirement already satisfied: comm>=0.1.3 in /home/henry/Escritorio/Herramientas para inteligencia artificial/ejemplos-clase03/env001/lib/python3.10/site-packages (from ipywidgets->pygwalker) (0.2.2)\n",
      "Requirement already satisfied: widgetsnbextension~=4.0.10 in /home/henry/Escritorio/Herramientas para inteligencia artificial/ejemplos-clase03/env001/lib/python3.10/site-packages (from ipywidgets->pygwalker) (4.0.10)\n",
      "Requirement already satisfied: jupyterlab-widgets~=3.0.10 in /home/henry/Escritorio/Herramientas para inteligencia artificial/ejemplos-clase03/env001/lib/python3.10/site-packages (from ipywidgets->pygwalker) (3.0.10)\n",
      "Requirement already satisfied: MarkupSafe>=2.0 in /home/henry/Escritorio/Herramientas para inteligencia artificial/ejemplos-clase03/env001/lib/python3.10/site-packages (from jinja2->pygwalker) (2.1.5)\n",
      "Requirement already satisfied: numpy>=1.22.4 in /home/henry/Escritorio/Herramientas para inteligencia artificial/ejemplos-clase03/env001/lib/python3.10/site-packages (from pandas->pygwalker) (1.26.4)\n",
      "Requirement already satisfied: tzdata>=2022.7 in /home/henry/Escritorio/Herramientas para inteligencia artificial/ejemplos-clase03/env001/lib/python3.10/site-packages (from pandas->pygwalker) (2024.1)\n",
      "Requirement already satisfied: annotated-types>=0.4.0 in /home/henry/Escritorio/Herramientas para inteligencia artificial/ejemplos-clase03/env001/lib/python3.10/site-packages (from pydantic->pygwalker) (0.6.0)\n",
      "Requirement already satisfied: pydantic-core==2.18.2 in /home/henry/Escritorio/Herramientas para inteligencia artificial/ejemplos-clase03/env001/lib/python3.10/site-packages (from pydantic->pygwalker) (2.18.2)\n",
      "Requirement already satisfied: greenlet!=0.4.17 in /home/henry/Escritorio/Herramientas para inteligencia artificial/ejemplos-clase03/env001/lib/python3.10/site-packages (from sqlalchemy->pygwalker) (3.0.3)\n",
      "Requirement already satisfied: parso<0.9.0,>=0.8.3 in /home/henry/Escritorio/Herramientas para inteligencia artificial/ejemplos-clase03/env001/lib/python3.10/site-packages (from jedi>=0.16->ipython->pygwalker) (0.8.4)\n",
      "Requirement already satisfied: ptyprocess>=0.5 in /home/henry/Escritorio/Herramientas para inteligencia artificial/ejemplos-clase03/env001/lib/python3.10/site-packages (from pexpect>4.3->ipython->pygwalker) (0.7.0)\n",
      "Requirement already satisfied: wcwidth in /home/henry/Escritorio/Herramientas para inteligencia artificial/ejemplos-clase03/env001/lib/python3.10/site-packages (from prompt-toolkit<3.1.0,>=3.0.41->ipython->pygwalker) (0.2.13)\n",
      "Requirement already satisfied: six>=1.5 in /home/henry/Escritorio/Herramientas para inteligencia artificial/ejemplos-clase03/env001/lib/python3.10/site-packages (from python-dateutil~=2.2->segment-analytics-python==2.2.3->pygwalker) (1.16.0)\n",
      "Requirement already satisfied: executing>=1.2.0 in /home/henry/Escritorio/Herramientas para inteligencia artificial/ejemplos-clase03/env001/lib/python3.10/site-packages (from stack-data->ipython->pygwalker) (2.0.1)\n",
      "Requirement already satisfied: asttokens>=2.1.0 in /home/henry/Escritorio/Herramientas para inteligencia artificial/ejemplos-clase03/env001/lib/python3.10/site-packages (from stack-data->ipython->pygwalker) (2.4.1)\n",
      "Requirement already satisfied: pure-eval in /home/henry/Escritorio/Herramientas para inteligencia artificial/ejemplos-clase03/env001/lib/python3.10/site-packages (from stack-data->ipython->pygwalker) (0.2.2)\n"
     ]
    }
   ],
   "source": [
    "!pip install pygwalker"
   ]
  },
  {
   "cell_type": "code",
   "execution_count": 5,
   "id": "b00b13e5-569f-4e07-8e9f-e468b163e02b",
   "metadata": {},
   "outputs": [],
   "source": [
    "import pygwalker as pyg\n"
   ]
  },
  {
   "cell_type": "code",
   "execution_count": 6,
   "id": "971613d6-3b5c-4b74-ac58-4e87d02808b9",
   "metadata": {},
   "outputs": [
    {
     "data": {
      "application/vnd.jupyter.widget-view+json": {
       "model_id": "49942d98ac494bf6b3df399b2b9354ff",
       "version_major": 2,
       "version_minor": 0
      },
      "text/plain": [
       "Box(children=(HTML(value='<div id=\"ifr-pyg-000616da3852aca4uy7ew6m49B5i3aZV\" style=\"height: auto\">\\n    <head>…"
      ]
     },
     "metadata": {},
     "output_type": "display_data"
    },
    {
     "data": {
      "text/html": [],
      "text/plain": [
       "<IPython.core.display.HTML object>"
      ]
     },
     "metadata": {},
     "output_type": "display_data"
    },
    {
     "data": {
      "text/plain": [
       "<pygwalker.api.pygwalker.PygWalker at 0x7a18317631f0>"
      ]
     },
     "execution_count": 6,
     "metadata": {},
     "output_type": "execute_result"
    }
   ],
   "source": [
    "#Gráfico de egistros por cada edad\n",
    "pyg.walk(data)"
   ]
  },
  {
   "cell_type": "code",
   "execution_count": 7,
   "id": "69424583-93a6-46e1-86c2-73dd05582d99",
   "metadata": {},
   "outputs": [
    {
     "data": {
      "application/vnd.jupyter.widget-view+json": {
       "model_id": "eb008d1cc4c144079b992066fc8ebca2",
       "version_major": 2,
       "version_minor": 0
      },
      "text/plain": [
       "Box(children=(HTML(value='<div id=\"ifr-pyg-000616da44afc060p4qCrgXo2VsLeaD7\" style=\"height: auto\">\\n    <head>…"
      ]
     },
     "metadata": {},
     "output_type": "display_data"
    },
    {
     "data": {
      "text/html": [],
      "text/plain": [
       "<IPython.core.display.HTML object>"
      ]
     },
     "metadata": {},
     "output_type": "display_data"
    },
    {
     "data": {
      "text/plain": [
       "<pygwalker.api.pygwalker.PygWalker at 0x7a183167b100>"
      ]
     },
     "execution_count": 7,
     "metadata": {},
     "output_type": "execute_result"
    }
   ],
   "source": [
    "#Gráfico de egistros por cada provincia\n",
    "pyg.walk(data)"
   ]
  }
 ],
 "metadata": {
  "kernelspec": {
   "display_name": "Python 3 (ipykernel)",
   "language": "python",
   "name": "python3"
  },
  "language_info": {
   "codemirror_mode": {
    "name": "ipython",
    "version": 3
   },
   "file_extension": ".py",
   "mimetype": "text/x-python",
   "name": "python",
   "nbconvert_exporter": "python",
   "pygments_lexer": "ipython3",
   "version": "3.10.12"
  }
 },
 "nbformat": 4,
 "nbformat_minor": 5
}
